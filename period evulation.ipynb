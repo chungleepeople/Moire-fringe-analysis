{
 "cells": [
  {
   "cell_type": "code",
   "execution_count": 2,
   "metadata": {},
   "outputs": [],
   "source": [
    "import numpy as np\n",
    "import matplotlib.pyplot as plt\n",
    "from datetime import datetime\n",
    "import cv2\n",
    "import os\n",
    "from PIL import Image\n",
    "import math\n"
   ]
  },
  {
   "cell_type": "code",
   "execution_count": 3,
   "metadata": {},
   "outputs": [],
   "source": [
    "\n",
    "#-------------calculate Minimum of p1 and the  Minimum of d_p ---------------------\n",
    "\n",
    "\n",
    "def limit(l,e):\n",
    "    p1=2*l\n",
    "    d_min=10*math.sqrt(2)*0.01\n",
    "    print(\"p1 = \"+str('%.3f'%p1)+ \" um\")\n",
    "    print(\"d_min = \"+str('%.3f'%d_min)+ \" um\")\n",
    "    return p1,d_min"
   ]
  },
  {
   "cell_type": "code",
   "execution_count": 10,
   "metadata": {},
   "outputs": [],
   "source": [
    "# Please d_p > d_min\n",
    "def sisu(size,p1,d_p,step):\n",
    "    for j in np.arange(p1,8,0.1):\n",
    "        for i in np.arange(d_p,2,step):\n",
    "            p2=j+i\n",
    "            p_m=j*p2/i\n",
    "            p_a=2*j*p2/(j+p2)\n",
    "            M=2*p_a/i\n",
    "            cms=size/p_m\n",
    "            move=M*0.1\n",
    "            if cms>3.8 and M>34and move>3:\n",
    "                print(\"p1=\"+str('%.2f'%j) + \", p2 = \"+str('%.4f'%p2)+\", p_m = \"+str('%.4f'%p_m)\\\n",
    "                     +\", cms=\"+str('%.4f'%cms)+\", M=\"+str('%.4f'%M)+\", move=\"+str('%.4f'%move)+\" um\")"
   ]
  },
  {
   "cell_type": "code",
   "execution_count": 11,
   "metadata": {},
   "outputs": [
    {
     "name": "stdout",
     "output_type": "stream",
     "text": [
      "p1=4.00, p2 = 4.2000, p_m = 84.0000, cms=4.1667, M=40.9756, move=4.0976 um\n",
      "p1=4.10, p2 = 4.3000, p_m = 88.1500, cms=3.9705, M=41.9762, move=4.1976 um\n",
      "p1=5.00, p2 = 5.3000, p_m = 88.3333, cms=3.9623, M=34.3042, move=3.4304 um\n",
      "p1=5.10, p2 = 5.4000, p_m = 91.8000, cms=3.8126, M=34.9714, move=3.4971 um\n"
     ]
    }
   ],
   "source": [
    "\n",
    "# Please d_p > d_min = 0.141 um\n",
    "# Please p1  > 2.328 (um)\n",
    "# sisu(size,p1,d_p,step):\n",
    "\n",
    "sisu(350,4,0.2,0.1)"
   ]
  },
  {
   "cell_type": "code",
   "execution_count": null,
   "metadata": {},
   "outputs": [],
   "source": []
  },
  {
   "cell_type": "code",
   "execution_count": null,
   "metadata": {},
   "outputs": [],
   "source": []
  }
 ],
 "metadata": {
  "kernelspec": {
   "display_name": "Python 3",
   "language": "python",
   "name": "python3"
  },
  "language_info": {
   "codemirror_mode": {
    "name": "ipython",
    "version": 3
   },
   "file_extension": ".py",
   "mimetype": "text/x-python",
   "name": "python",
   "nbconvert_exporter": "python",
   "pygments_lexer": "ipython3",
   "version": "3.6.8"
  }
 },
 "nbformat": 4,
 "nbformat_minor": 2
}

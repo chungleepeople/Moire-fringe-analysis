{
 "cells": [
  {
   "cell_type": "code",
   "execution_count": 1,
   "metadata": {},
   "outputs": [],
   "source": [
    "import numpy as np\n",
    "import matplotlib.pyplot as plt\n",
    "from datetime import datetime\n",
    "import cv2\n",
    "import os\n",
    "import scipy.signal as sigl \n",
    "import scipy.ndimage as ndi\n",
    "import scipy.fft as fft\n",
    "from PIL import Image"
   ]
  },
  {
   "cell_type": "code",
   "execution_count": 2,
   "metadata": {},
   "outputs": [
    {
     "name": "stdout",
     "output_type": "stream",
     "text": [
      " M= 40.976\n"
     ]
    }
   ],
   "source": [
    "p1=4\n",
    "p2=4.2\n",
    "p_a=2*p1*p2/(p1+p2)\n",
    "M=2*p_a/(p2-p1)\n",
    "pix=7.8125\n",
    "lens=10\n",
    "print(' M= '+str('%.3f'%M))\n"
   ]
  },
  {
   "cell_type": "code",
   "execution_count": 3,
   "metadata": {},
   "outputs": [],
   "source": [
    "thre=6\n",
    "row1=100\n",
    "row2=300\n",
    "def spilt(moire,j):\n",
    "    moire_resize=moire[20:,20:420]\n",
    "    m_r1=moire_resize[row1].astype(float)\n",
    "    m_r2=moire_resize[row2].astype(float)\n",
    "    if 1.7<j<2.3:\n",
    "        for k in (m_r1,m_r2):\n",
    "            m_r1_valley=abs(m_r1-255)\n",
    "            m_r2_valley=abs(m_r2-255)\n",
    "        m_r1=m_r1_valley\n",
    "        m_r2=m_r2_valley\n",
    "\n",
    "    pic_len=m_r2.size//2\n",
    "    y_a1=m_r1[:pic_len]-m_r1[:pic_len].mean()\n",
    "    y_a2=m_r1[pic_len:]-m_r1[pic_len:].mean()\n",
    "    y_b1=m_r2[:pic_len]-m_r2[:pic_len].mean()\n",
    "    y_b2=m_r2[pic_len:]-m_r2[pic_len:].mean()\n",
    "    return(y_a1,y_a2,y_b1,y_b2)\n",
    "\n",
    "def wave_ifft(y_a,y_b):\n",
    "    #wave 1\n",
    "    wave1_fft=fft.fft(y_a)\n",
    "    wave1_fft_2 = wave1_fft.copy()\n",
    "    wave1_fft_2[thre:-thre]=0\n",
    "    wave1_ifft = fft.ifft(wave1_fft_2)\n",
    "    #wave2\n",
    "    wave2_fft=fft.fft(y_b)\n",
    "    wave2_fft_2 = wave2_fft.copy()\n",
    "    wave2_fft_2[thre:-thre]=0\n",
    "    wave2_ifft = fft.ifft(wave2_fft_2)\n",
    "    return(wave_peak1(wave1_ifft,wave2_ifft))\n",
    "\n",
    "    \n",
    "def wave_peak1(w_p1,w_p2):\n",
    "    wave1_peak=sigl.find_peaks(w_p1,height=12,distance=50)[0]\n",
    "    wave2_peak=sigl.find_peaks(w_p2,height=12,distance=50)[0]\n",
    "     \n",
    "    pic_len=w_p1.size\n",
    "#     wave2_peak=wave2_peak+pic_len\n",
    "#     print(wave1_peak,wave2_peak)\n",
    "    peak_con=np.concatenate((wave1_peak,wave2_peak))\n",
    "#     print(\"peak_con=\"+str(peak_con))\n",
    "    return(peak_con)\n",
    "\n",
    "def Cal_result(origin_D_X,j):\n",
    "    Delta_X=origin_D_X.tolist()\n",
    "#     print(Delta_X)\n",
    "    Delta_X.remove(min(Delta_X))\n",
    "    Delta_X.remove(min(Delta_X))\n",
    "    \n",
    "    Delta_X=np.sum(Delta_X)/len(Delta_X)\n",
    "#     print(Delta_X)\n",
    "    delta_x=Delta_X*pix/M/lens\n",
    "    error=delta_x-j\n",
    "    error_ab=abs(error)\n",
    "    return(delta_x,Delta_X,error,error_ab)\n",
    "\n"
   ]
  },
  {
   "cell_type": "code",
   "execution_count": 12,
   "metadata": {},
   "outputs": [
    {
     "name": "stdout",
     "output_type": "stream",
     "text": [
      "when x= 0.10, dx_simu= 0.1335, DX_simu=7.00, error=0.03, error_ab=0.03\n",
      "when x= 0.20, dx_simu= 0.2002, DX_simu=10.50, error=0.00, error_ab=0.00\n",
      "when x= 0.30, dx_simu= 0.3432, DX_simu=18.00, error=0.04, error_ab=0.04\n",
      "when x= 0.40, dx_simu= 0.4576, DX_simu=24.00, error=0.06, error_ab=0.06\n",
      "when x= 0.50, dx_simu= 0.4862, DX_simu=25.50, error=-0.01, error_ab=0.01\n",
      "when x= 0.60, dx_simu= 0.6197, DX_simu=32.50, error=0.02, error_ab=0.02\n",
      "when x= 0.70, dx_simu= 0.7340, DX_simu=38.50, error=0.03, error_ab=0.03\n",
      "when x= 0.80, dx_simu= 0.7436, DX_simu=39.00, error=-0.06, error_ab=0.06\n",
      "when x= 0.90, dx_simu= 0.9342, DX_simu=49.00, error=0.03, error_ab=0.03\n",
      "when x= 1.00, dx_simu= 0.9628, DX_simu=50.50, error=-0.04, error_ab=0.04\n",
      "when x= 1.10, dx_simu= 1.0296, DX_simu=54.00, error=-0.07, error_ab=0.07\n",
      "when x= 1.20, dx_simu= 1.1630, DX_simu=61.00, error=-0.04, error_ab=0.04\n",
      "when x= 1.30, dx_simu= 1.0868, DX_simu=57.00, error=-0.21, error_ab=0.21\n",
      "when x= 1.40, dx_simu= 1.3060, DX_simu=68.50, error=-0.09, error_ab=0.09\n"
     ]
    }
   ],
   "source": [
    "x_scale=[]\n",
    "delta_xs=[]\n",
    "DX_simu_s=[]\n",
    "error_s=[]\n",
    "error_ab_s=[]\n",
    "\n",
    "for j in np.arange(0.1,1.5,0.1):\n",
    "#     if np.fabs(j-1.7) < 1e-3:\n",
    "#         continue\n",
    "    #read &spilt \n",
    "    moire=cv2.imread('/Users/chunglee_people/Desktop/python-jupyter/%.1f_c.png'%(j),0) \n",
    "    sp_m=spilt(moire,j)\n",
    "    #calculate\n",
    "    Delta_X=abs(wave_ifft(sp_m[0],sp_m[1])-wave_ifft(sp_m[2],sp_m[3]))\n",
    "    #results\n",
    "    dx_simu=Cal_result(Delta_X,j)[0]\n",
    "    DX_simu=Cal_result(Delta_X,j)[1]\n",
    "    error=Cal_result(Delta_X,j)[2]\n",
    "    error_ab=Cal_result(Delta_X,j)[3]\n",
    "    \n",
    "    #append\n",
    "    x_scale.append(j)\n",
    "    DX_simu_s.append(DX_simu)\n",
    "    delta_xs.append(dx_simu)\n",
    "    error_s.append(error)\n",
    "    error_ab_s.append(error_ab)\n",
    "    \n",
    "    \n",
    "    \n",
    "    print(\"when x= \"+str('%.2f'%j)+', dx_simu= '+str('%.4f'%dx_simu)+', DX_simu='+str('%.2f'%DX_simu)\\\n",
    "          +', error='+str('%.2f'%error)+', error_ab='+str('%.2f'%error_ab))\n",
    "    \n",
    "\n",
    "    \n",
    "    \n",
    " "
   ]
  },
  {
   "cell_type": "code",
   "execution_count": 13,
   "metadata": {},
   "outputs": [
    {
     "name": "stdout",
     "output_type": "stream",
     "text": [
      "[0.1 0.2 0.3 0.4 0.5 0.6 0.7 0.8 0.9 1.  1.1 1.2 1.3 1.4 1.5 1.6 1.7 1.8\n",
      " 1.9 2.  2.1]\n",
      "[0.13346354 0.20019531 0.34319196 0.45758929 0.48618862 0.61965216\n",
      " 0.73404948 0.74358259 0.93424479 0.96284412 1.02957589 1.16303943\n",
      " 1.14397321 1.30603609 1.4109003  1.53483073 1.64922805 1.73502604\n",
      " 1.82082403 1.90662202 1.9828869 ]\n",
      "[ 0.03346354  0.00019531  0.04319196  0.05758929 -0.01381138  0.01965216\n",
      "  0.03404948 -0.05641741  0.03424479 -0.03715588 -0.07042411 -0.03696057\n",
      " -0.15602679 -0.09396391 -0.0890997  -0.06516927 -0.05077195 -0.06497396\n",
      " -0.07917597 -0.09337798 -0.1171131 ]\n",
      "[0.03346354 0.00019531 0.04319196 0.05758929 0.01381138 0.01965216\n",
      " 0.03404948 0.05641741 0.03424479 0.03715588 0.07042411 0.03696057\n",
      " 0.15602679 0.09396391 0.0890997  0.06516927 0.05077195 0.06497396\n",
      " 0.07917597 0.09337798 0.1171131 ]\n",
      "[33.46354167  0.09765625 14.39732143 14.39732143  2.76227679  3.27535962\n",
      "  4.86421131  7.05217634  3.80497685  3.7155878   6.40219156  3.08004712\n",
      " 12.00206044  6.71170812  5.93998016  4.07307943  2.98658526  3.60966435\n",
      "  4.16715617  4.66889881  5.57681406]\n"
     ]
    }
   ],
   "source": [
    "offset=np.arange(0.1,2.2,0.1)\n",
    "print(offset)\n",
    "re_Dx=np.array([7.0, 10.5, 18.0, 24.0, 25.5, 32.5, 38.5, 39.0\\\n",
    "       , 49.0, 50.5,\\\n",
    "                54.0, 61.0, 60.0, 68.5, 74.0, 80.5, 86.5, 91 ,95.5, 100,104])\n",
    "re_dx=re_Dx*pix/M/lens\n",
    "error=re_dx-offset\n",
    "Abs_error=abs(error)\n",
    "error_percent=100*(Abs_error/offset)\n",
    "\n",
    "print(re_dx)\n",
    "print(error)\n",
    "print(Abs_error)\n",
    "print(error_percent)\n"
   ]
  },
  {
   "cell_type": "code",
   "execution_count": null,
   "metadata": {},
   "outputs": [],
   "source": [
    "# plt.figure(figsize=(16,9))\n",
    "# plt.xlabel(\"$x$  real (µm)\",fontsize=16)\n",
    "# plt.gca().set_aspect('equal')\n",
    "# plt.ylabel(\"x_estimated (µm)\",fontsize=16)\n",
    "# plt.xlim(-0.1,xmax)\n",
    "# plt.ylim(-0.1,xmax)\n",
    "# plt.plot(offset,re_dx,'ro-')\n",
    "# plt.plot([-10,10],[-10,10],'--',color='#660022',alpha=0.8)\n",
    "\n",
    "# plt.figure(figsize=(16,9))\n",
    "# plt.ylim(-0.3,0.3)\n",
    "# plt.xlim(0,xmax)\n",
    "# plt.fill_between([-10,10],[0.1,0.1],[-0.1,-0.1],color='#222288',alpha=0.2)\n",
    "# plt.plot([-10,10],[0,0],'--',color='#7733AA',alpha=0.8)\n",
    "# plt.xlabel(\"$x$ real (µm)\",fontsize=16)\n",
    "# plt.ylabel(\"error (µm)\",fontsize=16)\n",
    "# plt.plot(offset,error,'go-')\n",
    "\n",
    "# plt.figure(figsize=(16,9))\n",
    "# plt.ylim(-0.3,0.3)\n",
    "# plt.xlim(-0.1,xmax)\n",
    "# plt.fill_between([-10,10],[0.1,0.1],[-0.1,-0.1],color='#222288',alpha=0.2)\n",
    "# plt.plot([-10,10],[0,0],'--',color='#7733AA',alpha=0.8)\n",
    "# plt.xlabel(\"$x$ real (µm)\",fontsize=16)\n",
    "# plt.ylabel(\"|error| (µm)\",fontsize=16)\n",
    "# plt.plot(offset,Abs_error,'bo-')"
   ]
  },
  {
   "cell_type": "code",
   "execution_count": 15,
   "metadata": {},
   "outputs": [],
   "source": [
    "SQ_offset=np.arange(0.1,2.1,0.1)\n",
    "SQ_simulate=np.array([0.1138,0.148,0.3188,0.444,0.535,\\\n",
    "                     0.5807,0.7517,0.8312,0.8995,0.967,\\\n",
    "                     1.093,1.184,1.298,1.389,1.446,\\\n",
    "                      1.537,1.73,1.81,1.856,2.026])"
   ]
  },
  {
   "cell_type": "code",
   "execution_count": null,
   "metadata": {},
   "outputs": [],
   "source": [
    "# plt.figure(figsize=(16,9))\n",
    "\n",
    "# plt.xlabel(\"$x$  real (µm)\",fontsize=16)\n",
    "# plt.gca().set_aspect('equal')\n",
    "# plt.ylabel(\"x_estimated (µm)\",fontsize=16)\n",
    "# plt.xlim(-0.1,xmax)\n",
    "# plt.ylim(-0.1,xmax)\n",
    "# plt.plot(SQ_offset,SQ_simulate,'ro-')\n",
    "# plt.plot([-10,10],[-10,10],'--',color='#660022',alpha=0.8)\n",
    "\n",
    "# plt.figure(figsize=(16,9))\n",
    "# plt.ylim(-0.3,0.3)\n",
    "# plt.xlim(0,xmax)\n",
    "# plt.fill_between([-10,10],[0.1,0.1],[-0.1,-0.1],color='#222288',alpha=0.2)\n",
    "# plt.plot([-10,10],[0,0],'--',color='#7733AA',alpha=0.8)\n",
    "# plt.xlabel(\"$x$ real (µm)\",fontsize=16)\n",
    "# plt.ylabel(\"error (µm)\",fontsize=16)\n",
    "# plt.plot(SQ_offset,SQ_error,'go-')\n",
    "\n",
    "# plt.figure(figsize=(16,9))\n",
    "# plt.ylim(-0.3,0.3)\n",
    "# plt.xlim(-0.1,xmax)\n",
    "# plt.fill_between([-10,10],[0.1,0.1],[-0.1,-0.1],color='#222288',alpha=0.2)\n",
    "# plt.plot([-10,10],[0,0],'--',color='#7733AA',alpha=0.8)\n",
    "# plt.xlabel(\"$x$ real (µm)\",fontsize=16)\n",
    "# plt.ylabel(\"|error| (µm)\",fontsize=16)\n",
    "# plt.plot(SQ_offset,SQ_error_abs,'bo-')\n"
   ]
  },
  {
   "cell_type": "code",
   "execution_count": 17,
   "metadata": {},
   "outputs": [
    {
     "name": "stdout",
     "output_type": "stream",
     "text": [
      "[ 0.0138 -0.052   0.0188  0.044   0.035  -0.0193  0.0517  0.0312 -0.0005\n",
      " -0.033  -0.007  -0.016  -0.002  -0.011  -0.054  -0.063   0.03    0.01\n",
      " -0.044   0.026 ]\n",
      "[0.0138 0.052  0.0188 0.044  0.035  0.0193 0.0517 0.0312 0.0005 0.033\n",
      " 0.007  0.016  0.002  0.011  0.054  0.063  0.03   0.01   0.044  0.026 ]\n",
      "0.5623000000000006\n",
      "0.02811500000000003\n"
     ]
    }
   ],
   "source": [
    "SQ_error=SQ_simulate-SQ_offset\n",
    "\n",
    "SQ_error_abs=abs(SQ_error)\n",
    " \n",
    "print(SQ_error)\n",
    "print(SQ_error_abs)\n",
    "print(np.sum(SQ_error_abs))\n",
    "print(np.sum(SQ_error_abs)/len(SQ_error_abs))\n"
   ]
  },
  {
   "cell_type": "code",
   "execution_count": 30,
   "metadata": {},
   "outputs": [
    {
     "name": "stdout",
     "output_type": "stream",
     "text": [
      "[[1.         0.99800045]\n",
      " [0.99800045 1.        ]]\n"
     ]
    },
    {
     "data": {
      "image/png": "[encoded data removed]",
      "text/plain": [
       "<Figure size 1152x648 with 1 Axes>"
      ]
     },
     "metadata": {
      "needs_background": "light"
     },
     "output_type": "display_data"
    }
   ],
   "source": [
    "xmax=(len(offset)/10)+0.2\n",
    "plt.figure(figsize=(16,9))\n",
    "plt.xlabel(\"$Δx_\\mathrm{real}$ (µm)\",fontsize=20)\n",
    "plt.gca().set_aspect('equal')\n",
    "plt.ylabel(\"$Δx_\\mathrm{estimated}$ (µm)\",fontsize=20)\n",
    "plt.xlim(-0.1,xmax)\n",
    "plt.ylim(-0.1,xmax)\n",
    "\n",
    "plt.plot(offset,re_dx,'ro',label='$p_\\mathrm{1}$=4 & $p_\\mathrm{2}$=4.2 (µm)')\n",
    "plt.plot(SQ_offset,SQ_simulate,'gs',label='$p_\\mathrm{1}$=5 & $p_\\mathrm{2}$=5.3 (µm)')\n",
    "plt.xticks(fontsize=16)\n",
    "plt.yticks(fontsize=16)\n",
    "plt.plot([-10,10],[-10,10],'--',color='#660022',alpha=0.8)\n",
    "plt.legend(loc='upper left',fontsize=15)\n",
    "plt.grid(True)\n",
    "# hist.xaxis.set_tick_params(direction='in')\n",
    "plt.tick_params('both',direction='in')\n",
    "\n",
    "\n",
    "line_pccs = np.corrcoef((offset, re_dx))\n",
    "print(line_pccs)"
   ]
  },
  {
   "cell_type": "raw",
   "metadata": {},
   "source": []
  },
  {
   "cell_type": "code",
   "execution_count": 45,
   "metadata": {},
   "outputs": [
    {
     "data": {
      "image/png": "[encoded data removed]",
      "text/plain": [
       "<Figure size 1152x648 with 1 Axes>"
      ]
     },
     "metadata": {
      "needs_background": "light"
     },
     "output_type": "display_data"
    }
   ],
   "source": [
    "plt.figure(figsize=(16,9))\n",
    "plt.ylim(-0.3,0.3)\n",
    "plt.xlim(-0.1,xmax)\n",
    "plt.fill_between([-10,10],[0.1,0.1],[-0.1,-0.1],color='#222288',alpha=0.2)\n",
    "plt.plot([-10,10],[0,0],'--',color='#7733AA',alpha=0.8)\n",
    "plt.xlabel(\"$Δx_\\mathrm{real}$ (µm)\",fontsize=20)\n",
    "plt.ylabel(\"$error$ (µm)\",fontsize=20)\n",
    "plt.plot(offset,error,'ro',label='$p_\\mathrm{1}$=4 & $p_\\mathrm{2}$=4.2 (µm)')\n",
    "# for k in offset:\n",
    "#     for e in error:\n",
    "#         plt.plot([k,k],[0,e],'k--')\n",
    "    \n",
    "plt.plot(SQ_offset,SQ_error,'gs',label='$p_\\mathrm{1}$=5 & $p_\\mathrm{2}$=5.3 (µm)')\n",
    "plt.xticks(fontsize=16)\n",
    "plt.yticks(fontsize=16)\n",
    "plt.legend(loc='upper left',fontsize=15)\n",
    "plt.grid(True)\n",
    "plt.tick_params('both',direction='in')\n",
    "# hist.xaxis.set_tick_params(direction='in')\n",
    "\n"
   ]
  },
  {
   "cell_type": "code",
   "execution_count": 37,
   "metadata": {},
   "outputs": [
    {
     "data": {
      "image/png": "[encoded data removed]",
      "text/plain": [
       "<Figure size 1152x648 with 1 Axes>"
      ]
     },
     "metadata": {
      "needs_background": "light"
     },
     "output_type": "display_data"
    }
   ],
   "source": [
    "plt.figure(figsize=(16,9))\n",
    "plt.ylim(-0.3,0.3)\n",
    "plt.xlim(-0.1,xmax)\n",
    "plt.fill_between([-10,10],[0.1,0.1],[-0.1,-0.1],color='#222288',alpha=0.2)\n",
    "plt.plot([-10,10],[0,0],'--',color='#7733AA',alpha=0.8)\n",
    "plt.xlabel(\"$Δx_\\mathrm{real}$ (µm)\",fontsize=20)\n",
    "plt.ylabel(\"$|error|$(µm)\",fontsize=20)\n",
    "\n",
    "plt.plot(offset,Abs_error,'ro',label='$p_\\mathrm{1}$=4 & $p_\\mathrm{2}$=4.2 (µm)')\n",
    "plt.plot(SQ_offset,SQ_error_abs,'gs',label='$p_\\mathrm{1}$=5 & $p_\\mathrm{2}$=5.3 (µm)')\n",
    "\n",
    "plt.xticks(fontsize=16)\n",
    "plt.yticks(fontsize=16)\n",
    "plt.legend(loc='upper left',fontsize=15)\n",
    "plt.grid(True)\n",
    "\n",
    "# hist.xaxis.set_tick_params(direction='in')\n",
    "plt.tick_params('both',direction='in')"
   ]
  },
  {
   "cell_type": "code",
   "execution_count": 135,
   "metadata": {},
   "outputs": [
    {
     "name": "stdout",
     "output_type": "stream",
     "text": [
      "[0.1138 0.148  0.3188 0.444  0.535  0.5807 0.7517 0.8312 0.8995 0.967\n",
      " 1.093  1.184  1.298  1.389  1.446  1.537  1.73   1.81   1.856  2.026 ]\n",
      "[ 4.99685786  6.49854976 13.99822746 19.49564928 23.4913792  25.49802598\n",
      " 33.0064855  36.49726054 39.49625344 42.46011904 47.99266816 51.98839808\n",
      " 56.99403776 60.98976768 63.49258752 67.48831744 75.9627776  79.4755072\n",
      " 81.49532672 88.95987712]\n"
     ]
    }
   ],
   "source": [
    "SQ_simulate=np.array([0.1138,0.148,0.3188,0.444,0.535,\\\n",
    "                     0.5807,0.7517,0.8312,0.8995,0.967,\\\n",
    "                     1.093,1.184,1.298,1.389,1.446,\\\n",
    "                      1.537,1.73,1.81,1.856,2.026])\n",
    "M= 34.304\n",
    "pix=7.8125\n",
    "lens=10\n",
    "print(SQ_simulate)\n",
    "SQ_X=SQ_simulate*M*lens/pix\n",
    "print(SQ_X)\n",
    " "
   ]
  },
  {
   "cell_type": "code",
   "execution_count": 136,
   "metadata": {},
   "outputs": [
    {
     "name": "stdout",
     "output_type": "stream",
     "text": [
      "[0.13346227 0.20019341 0.3431887  0.45758493 0.48618399 0.61964626\n",
      " 0.73404249 0.74357551 0.93423589 0.96283495 1.02956609 1.16302836\n",
      " 1.14396232 1.30602365 1.41088686 1.53481611 1.64921234 1.73500952\n",
      " 1.82080669 1.90660387]\n",
      "[ 0.03346227  0.00019341  0.0431887   0.05758493 -0.01381601  0.01964626\n",
      "  0.03404249 -0.05642449  0.03423589 -0.03716505 -0.07043391 -0.03697164\n",
      " -0.15603768 -0.09397635 -0.08911314 -0.06518389 -0.05078766 -0.06499048\n",
      " -0.07919331 -0.09339613]\n",
      "0.056492184449433894\n"
     ]
    }
   ],
   "source": [
    "LINE=np.arange(0.1,2.1,0.1)\n",
    "LINE_simulate=np.array([7,10.5,18,24,25.5,\\\n",
    "                     32.5,38.5,39,49,50.5,\\\n",
    "                     54,61,60,68.5,74,\\\n",
    "                      80.5,86.5,91,95.5,100])\n",
    "M= 40.976\n",
    "pix=7.8125\n",
    "lens=10\n",
    "LINE_x=LINE_simulate*pix/M/lens\n",
    "print(LINE_x)\n",
    "LINE_error=LINE_x-LINE\n",
    "print(LINE_error)\n",
    "print(np.sum(abs(LINE_error))/len(LINE_error))"
   ]
  },
  {
   "cell_type": "code",
   "execution_count": null,
   "metadata": {},
   "outputs": [],
   "source": []
  }
 ],
 "metadata": {
  "kernelspec": {
   "display_name": "Python 3",
   "language": "python",
   "name": "python3"
  },
  "language_info": {
   "codemirror_mode": {
    "name": "ipython",
    "version": 3
   },
   "file_extension": ".py",
   "mimetype": "text/x-python",
   "name": "python",
   "nbconvert_exporter": "python",
   "pygments_lexer": "ipython3",
   "version": "3.6.8"
  }
 },
 "nbformat": 4,
 "nbformat_minor": 4
}
